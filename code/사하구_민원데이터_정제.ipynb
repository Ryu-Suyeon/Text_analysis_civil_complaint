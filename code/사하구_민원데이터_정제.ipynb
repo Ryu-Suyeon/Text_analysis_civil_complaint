{
 "cells": [
  {
   "cell_type": "code",
   "execution_count": null,
   "id": "de5a83a8",
   "metadata": {},
   "outputs": [],
   "source": [
    "# 데이터 불러오기\n",
    "import re\n",
    "\n",
    "fileDir = \"C:/Users/###/###/###/###/감천민원_내용.txt\"\n",
    "fr = open(fileDir, 'r', encoding='utf-8')\n",
    "contents = fr.readlines()\n",
    "fr.close()\n",
    "\n",
    "reviewList = []\n",
    "for content in contents:\n",
    "  content = re.sub('[^가-힣]', ' ', content)\n",
    "  content = re.sub('[\\s]+', ' ', content).strip()\n",
    "  reviewList.append(content)\n",
    "\n",
    "for eachReview in reviewList:\n",
    "  print(eachReview)"
   ]
  },
  {
   "cell_type": "code",
   "execution_count": null,
   "id": "c907a714",
   "metadata": {},
   "outputs": [],
   "source": [
    "# kiwipiey 패키지 형태소 분석\n",
    "\n",
    "from kiwipiepy import Kiwi\n",
    "\n",
    "kiwi = Kiwi()\n",
    "# 품사태깅된 문장\n",
    "reviewPOSList = []\n",
    "# 단어의 타입 확인\n",
    "wordType = set()\n",
    "\n",
    "# 원하는 타입 설정\n",
    "desired_types = {\"NNG\"} # 명사 지정해서, 명사만 추출\n",
    "\n",
    "for eachReview in reviewList:\n",
    "    # 띄어쓰기\n",
    "    eachReviewSpace = kiwi.space(eachReview)\n",
    "    # 품사태깅\n",
    "    posTagout = kiwi.tokenize(eachReviewSpace)\n",
    "    sentencePOS = ''\n",
    "    for eachOut in posTagout:\n",
    "        result = eachOut[0] + \"/\" + eachOut[1]\n",
    "        if eachOut[1] in desired_types:  # 원하는 타입의 단어만 선택\n",
    "            wordType.add(result)\n",
    "            sentencePOS = sentencePOS + \" \" + result\n",
    "    sentencePOS = sentencePOS.strip()\n",
    "    reviewPOSList.append(sentencePOS)\n",
    "    print(sentencePOS)\n",
    "\n",
    "nng_text=[]\n",
    "\n",
    "for i in range(len(reviewPOSList)):\n",
    "    nng_text.append(reviewPOSList)\n",
    "    \n",
    "print(reviewPOSList)"
   ]
  },
  {
   "cell_type": "code",
   "execution_count": null,
   "id": "4d0763de",
   "metadata": {},
   "outputs": [],
   "source": [
    "# 리스트에 저장\n",
    "\n",
    "nng_text=[]\n",
    "\n",
    "for i in range(len(reviewPOSList)):\n",
    "    nng_text.append(reviewPOSList)\n",
    "    \n",
    "print(reviewPOSList)"
   ]
  },
  {
   "cell_type": "code",
   "execution_count": null,
   "id": "7dc2edea",
   "metadata": {},
   "outputs": [],
   "source": [
    "# 데이터프레임에 저장\n",
    "\n",
    "import pandas as pd\n",
    "\n",
    "df = pd.DataFrame(index=reviewPOSList, columns=None)\n",
    "df['text'] = reviewPOSList\n",
    "print(df)"
   ]
  },
  {
   "cell_type": "code",
   "execution_count": null,
   "id": "faec2d7c",
   "metadata": {},
   "outputs": [],
   "source": [
    "from collections import Counter\n",
    "\n",
    "# reviewPOSList에서 단어 추출\n",
    "all_words = ' '.join(reviewPOSList).split()\n",
    "word_count = Counter(all_words)\n",
    "\n",
    "# 빈도수가 가장 높은 단어 100개 추출\n",
    "top_words = word_count.most_common(50)\n",
    "\n",
    "# 결과 출력\n",
    "for word, count in top_words:\n",
    "    print(f\"{word}: {count}\")"
   ]
  },
  {
   "cell_type": "code",
   "execution_count": null,
   "id": "451cd1d9",
   "metadata": {},
   "outputs": [],
   "source": [
    "from collections import Counter\n",
    "import pandas as pd\n",
    "\n",
    "# reviewPOSList에서 단어 추출\n",
    "all_words = ' '.join(reviewPOSList).split()\n",
    "word_count = Counter(all_words)\n",
    "\n",
    "# 빈도수가 가장 높은 단어 100개 추출\n",
    "top_words = word_count.most_common(100)\n",
    "\n",
    "# 결과를 데이터프레임으로 저장\n",
    "data = {'word': [word for word, _ in top_words],\n",
    "        'count': [count for _, count in top_words]}\n",
    "df = pd.DataFrame(data)\n",
    "\n",
    "# 데이터프레임 출력\n",
    "print(df)\n",
    "\n",
    "excel_file_path = '민원텍스트_단어빈도(관광객).xlsx' # 상위100개 단어 엑셀 파일 저장\n",
    "df.to_excel(excel_file_path, index=True, header=True)"
   ]
  },
  {
   "cell_type": "code",
   "execution_count": null,
   "id": "bfb56270",
   "metadata": {},
   "outputs": [],
   "source": [
    "from collections import Counter\n",
    "from wordcloud import WordCloud\n",
    "import matplotlib.pyplot as plt\n",
    "\n",
    "# reviewPOSList에서 단어 추출\n",
    "all_words = ' '.join(reviewPOSList).split()\n",
    "word_count = Counter(all_words)\n",
    "\n",
    "# 빈도수가 가장 높은 단어 100개 추출\n",
    "top_words = word_count.most_common(50)  # 변경된 부분: 상위 100개 단어 추출\n",
    "\n",
    "# 워드 클라우드 생성\n",
    "font_path = './NanumGothicBold.ttf'\n",
    "wordcloud = WordCloud(width=1000, height=600, background_color='white', colormap='jet', contour_width=3, contour_color='steelblue', font_path = font_path).generate_from_frequencies(dict(top_words))\n",
    "\n",
    "# 시각화\n",
    "plt.figure(figsize=(10, 6))\n",
    "plt.imshow(wordcloud, interpolation='bilinear')\n",
    "plt.axis('off')\n",
    "plt.show()"
   ]
  }
 ],
 "metadata": {
  "kernelspec": {
   "display_name": "Python 3 (ipykernel)",
   "language": "python",
   "name": "python3"
  },
  "language_info": {
   "codemirror_mode": {
    "name": "ipython",
    "version": 3
   },
   "file_extension": ".py",
   "mimetype": "text/x-python",
   "name": "python",
   "nbconvert_exporter": "python",
   "pygments_lexer": "ipython3",
   "version": "3.9.13"
  }
 },
 "nbformat": 4,
 "nbformat_minor": 5
}
